{
 "cells": [
  {
   "cell_type": "markdown",
   "id": "fde6639e-184e-4e4c-bd48-766854b469db",
   "metadata": {},
   "source": [
    "* This is going to output a csv file that we will use later.\n",
    "* The point of this is to categorize the written reviews as 'Good' or 'Bad'"
   ]
  },
  {
   "cell_type": "markdown",
   "id": "302bddd3-9c2c-4c15-9beb-9c7f2667f72d",
   "metadata": {},
   "source": [
    "1. We are going to import some packages"
   ]
  },
  {
   "cell_type": "code",
   "execution_count": 64,
   "id": "86d6da1e-b835-467c-87f6-f9a081e6b61c",
   "metadata": {},
   "outputs": [],
   "source": [
    "import pandas as pd\n",
    "import pyodbc\n",
    "import nltk\n",
    "from nltk.sentiment.vader import SentimentIntensityAnalyzer"
   ]
  },
  {
   "cell_type": "markdown",
   "id": "81f541d6-828c-4fc8-a080-8783cc1f0de9",
   "metadata": {},
   "source": [
    "2. We will download vader_lexicon for sentiment analysis"
   ]
  },
  {
   "cell_type": "code",
   "execution_count": 66,
   "id": "16e01917-97bd-424b-af79-30d6618a263d",
   "metadata": {
    "scrolled": true
   },
   "outputs": [
    {
     "name": "stderr",
     "output_type": "stream",
     "text": [
      "[nltk_data] Downloading package vader_lexicon to\n",
      "[nltk_data]     C:\\Users\\Isabella\\AppData\\Roaming\\nltk_data...\n",
      "[nltk_data]   Package vader_lexicon is already up-to-date!\n"
     ]
    },
    {
     "data": {
      "text/plain": [
       "True"
      ]
     },
     "execution_count": 66,
     "metadata": {},
     "output_type": "execute_result"
    }
   ],
   "source": [
    "nltk.download('vader_lexicon')"
   ]
  },
  {
   "cell_type": "markdown",
   "id": "70bf32ff-558a-4538-816d-df6cdefdc61a",
   "metadata": {},
   "source": [
    "3. We will define a function to fetch data from a SQL database using a SQL query and add in the new sentiment columns"
   ]
  },
  {
   "cell_type": "code",
   "execution_count": 98,
   "id": "dc945c03-87dc-4019-8092-bc864ede9052",
   "metadata": {},
   "outputs": [
    {
     "name": "stdout",
     "output_type": "stream",
     "text": [
      "   ReviewID  CustomerID  ProductID  ReviewDate  Rating  \\\n",
      "0         1          77         18  2023-12-23       3   \n",
      "1         2          80         19  2024-12-25       5   \n",
      "2         3          50         13  2025-01-26       4   \n",
      "3         4          78         15  2025-04-21       3   \n",
      "4         5          64          2  2023-07-16       3   \n",
      "\n",
      "                             ReviewText  SentimentScore SentimentCategory  \\\n",
      "0  Average experience, nothing special.         -0.3089    Mixed Negative   \n",
      "1            The quality is  top-notch.          0.0000          Positive   \n",
      "2    Five stars for the quick delivery.          0.0000          Positive   \n",
      "3   Good quality, but could be cheaper.          0.2382    Mixed Positive   \n",
      "4  Average experience, nothing special.         -0.3089    Mixed Negative   \n",
      "\n",
      "  SentimentBucket  \n",
      "0    -0.49 to 0.0  \n",
      "1     0.0 to 0.49  \n",
      "2     0.0 to 0.49  \n",
      "3     0.0 to 0.49  \n",
      "4    -0.49 to 0.0  \n"
     ]
    }
   ],
   "source": [
    "def fetch_data_from_sql():\n",
    "    # define the connection string with parameters for the database connection\n",
    "    conn_str = (\n",
    "        'Driver={SQL Server};' # specify the driver for SQL server\n",
    "        'Server=DESKTOP-OFHJKPE\\\\SQLEXPRESS;' # specify my SQL server instance\n",
    "        'Database=PortfolioProject_MarketingAnalytics;' # specift database name\n",
    "        'Trusted_Connection=yes;' # use windows authentication for the connection\n",
    "    )\n",
    "    # establish the connection to the database\n",
    "    conn = pyodbc.connect(conn_str)\n",
    "\n",
    "    # define the SQL query to fetch customer reviews data\n",
    "    query = 'SELECT ReviewID, CustomerID, ProductID, ReviewDate, Rating, ReviewText FROM fact_customer_reviews'\n",
    "\n",
    "    # execute the query and fetch the data into the df\n",
    "    df = pd.read_sql(query,conn)\n",
    "\n",
    "    # close the connection to free up resources\n",
    "    conn.close()\n",
    "\n",
    "    # return the fetched data as a df\n",
    "    return df\n",
    "\n",
    "    # Fetch the customer reviews data from the SQL database\n",
    "    customer_reviews_df = fetch_data_from_sql()\n",
    "\n",
    "    # Initialize the VADER sentiment intensity analyzer for analyzing the sentiment of text data\n",
    "    sia = SentimentIntensityAnalyzer()\n",
    "\n",
    "# Define a function to calculate sentiment scores using VADER\n",
    "def calculate_sentiment(review):\n",
    "    # Get the sentiment scores for the review text\n",
    "    sentiment = sia.polarity_scores(review)\n",
    "    # Return the compound score, which is a normalized score between -1 (most negative) and 1 (most positive)\n",
    "    return sentiment['compound']\n",
    "\n",
    "# Define a function to categorize sentiment using both the sentiment score and the review rating\n",
    "def categorize_sentiment(score, rating):\n",
    "    # Use both the text sentiment score and the numerical rating to determine sentiment category\n",
    "    if score > 0.05:  # Positive sentiment score\n",
    "        if rating >= 4:\n",
    "            return 'Positive'  # High rating and positive sentiment\n",
    "        elif rating == 3:\n",
    "            return 'Mixed Positive'  # Neutral rating but positive sentiment\n",
    "        else:\n",
    "            return 'Mixed Negative'  # Low rating but positive sentiment\n",
    "    elif score < -0.05:  # Negative sentiment score\n",
    "        if rating <= 2:\n",
    "            return 'Negative'  # Low rating and negative sentiment\n",
    "        elif rating == 3:\n",
    "            return 'Mixed Negative'  # Neutral rating but negative sentiment\n",
    "        else:\n",
    "            return 'Mixed Positive'  # High rating but negative sentiment\n",
    "    else:  # Neutral sentiment score\n",
    "        if rating >= 4:\n",
    "            return 'Positive'  # High rating with neutral sentiment\n",
    "        elif rating <= 2:\n",
    "            return 'Negative'  # Low rating with neutral sentiment\n",
    "        else:\n",
    "            return 'Neutral'  # Neutral rating and neutral sentiment\n",
    "\n",
    "# Define a function to bucket sentiment scores into text ranges\n",
    "def sentiment_bucket(score):\n",
    "    if score >= 0.5:\n",
    "        return '0.5 to 1.0'  # Strongly positive sentiment\n",
    "    elif 0.0 <= score < 0.5:\n",
    "        return '0.0 to 0.49'  # Mildly positive sentiment\n",
    "    elif -0.5 <= score < 0.0:\n",
    "        return '-0.49 to 0.0'  # Mildly negative sentiment\n",
    "    else:\n",
    "        return '-1.0 to -0.5'  # Strongly negative sentiment\n",
    "\n",
    "# Apply sentiment analysis to calculate sentiment scores for each review\n",
    "customer_reviews_df['SentimentScore'] = customer_reviews_df['ReviewText'].apply(calculate_sentiment)\n",
    "\n",
    "# Apply sentiment categorization using both text and rating\n",
    "customer_reviews_df['SentimentCategory'] = customer_reviews_df.apply(\n",
    "    lambda row: categorize_sentiment(row['SentimentScore'], row['Rating']), axis=1)\n",
    "\n",
    "# Apply sentiment bucketing to categorize scores into defined ranges\n",
    "customer_reviews_df['SentimentBucket'] = customer_reviews_df['SentimentScore'].apply(sentiment_bucket)\n",
    "\n",
    "# Display the first few rows of the DataFrame with sentiment scores, categories, and buckets\n",
    "print(customer_reviews_df.head())\n",
    "\n",
    "# Save the DataFrame with sentiment scores, categories, and buckets to a new CSV file\n",
    "# This will save to a specific folder on my computer\n",
    "customer_reviews_df.to_csv(r'C:\\Users\\Isabella\\Documents\\RESUME\\Portfolio\\PORTFOLIO PROJECTS 12-2024\\Ali Ahmed\\fact_customer_reviews_with_sentiment.csv', index=False)\n",
    "    "
   ]
  },
  {
   "cell_type": "code",
   "execution_count": 103,
   "id": "50fe13fc-52cf-471c-9a9d-81d477575fa2",
   "metadata": {},
   "outputs": [],
   "source": [
    "# FYI the random doubles spaces will be back in the text since we just selected the review column from sql and did not select the edited one\n",
    "# We could fix this in multiple places, but will fix it in PowerBI for this project"
   ]
  }
 ],
 "metadata": {
  "kernelspec": {
   "display_name": "Python [conda env:base] *",
   "language": "python",
   "name": "conda-base-py"
  },
  "language_info": {
   "codemirror_mode": {
    "name": "ipython",
    "version": 3
   },
   "file_extension": ".py",
   "mimetype": "text/x-python",
   "name": "python",
   "nbconvert_exporter": "python",
   "pygments_lexer": "ipython3",
   "version": "3.12.7"
  }
 },
 "nbformat": 4,
 "nbformat_minor": 5
}
